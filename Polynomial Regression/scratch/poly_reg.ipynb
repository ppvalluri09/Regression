{
 "cells": [
  {
   "cell_type": "code",
   "execution_count": 3,
   "metadata": {},
   "outputs": [
    {
     "name": "stdout",
     "output_type": "stream",
     "text": [
      "Confidence:- 0.9371282222410215\n"
     ]
    },
    {
     "data": {
      "image/png": "[encoded data removed]",
      "text/plain": [
       "<Figure size 432x288 with 1 Axes>"
      ]
     },
     "metadata": {
      "needs_background": "light"
     },
     "output_type": "display_data"
    }
   ],
   "source": [
    "# Program for implementing the Polynomial Regression using numpy\n",
    "\n",
    "import numpy as np\n",
    "from matplotlib import pyplot as plt\n",
    "\n",
    "def sum_of_squares(y1, y2, mean=False):\n",
    "    S = 0\n",
    "    if mean:\n",
    "        for i in range(np.size(y1)):\n",
    "            diff_square = (y1[0][i] - y2) ** 2\n",
    "            S += diff_square\n",
    "        return S\n",
    "    else:\n",
    "        for i in range(np.size(y1)):\n",
    "            diff_square = (y1[0][i] - y2[0][i]) ** 2\n",
    "            S += diff_square\n",
    "        return S\n",
    "\n",
    "class Poly:\n",
    "\n",
    "    def __init__(self, frames, degree = 2):\n",
    "        self.degree = degree\n",
    "        self.frames = frames\n",
    "        self.w = np.zeros([frames, 1])\n",
    "\n",
    "    def prepare_X(self, X):\n",
    "        _X = np.array([np.ones(self.frames)])\n",
    "        for degree in range(1, self.degree + 1):\n",
    "            X_ = X ** degree\n",
    "            _X = np.append(_X, X_, axis=0)\n",
    "        _X = _X.T\n",
    "        return _X\n",
    "\n",
    "    def fit(self, X, y):\n",
    "        _y = y.T\n",
    "        _X = self.prepare_X(X)\n",
    "        #print(_X.shape)\n",
    "        #print(_X.T.shape)\n",
    "\n",
    "        XTX = np.linalg.inv((np.dot(_X.T, _X)))\n",
    "\n",
    "        self.w = np.dot(XTX, np.dot(_X.T, _y))\n",
    "        #print(self.w)\n",
    "\n",
    "    def predict(self, X):\n",
    "        _X = self.prepare_X(X)\n",
    "        return np.dot(_X, self.w)\n",
    "\n",
    "    def score(self, X, y):\n",
    "        y_pred = self.predict(X).T\n",
    "        SS_res = sum_of_squares(y, y_pred)\n",
    "        SS_tot = sum_of_squares(y, np.mean(y), True)\n",
    "        R2 = 1.0 - (SS_res / SS_tot)\n",
    "        return R2\n",
    "\n",
    "# Function to generate data for the model\n",
    "def generate_data(mean, var, frames):\n",
    "    return 2.0 - 3.0 * np.random.normal(mean, var, frames)\n",
    "\n",
    "# Function to scatter plot the data points\n",
    "def scatter(X, y):\n",
    "    plt.scatter(X, y, s=10)\n",
    "    plt.xlabel('Features')\n",
    "    plt.ylabel('Labels')\n",
    "    plt.title('X y Scatter Plot')\n",
    "    plt.show()\n",
    "\n",
    "# Function to plot the best fit line\n",
    "def plot_best_fit_line(X, y, y_pred):\n",
    "    plt.scatter(X, y, s=10)\n",
    "    plt.plot(X, y_pred, c='r')    # Error, does not show plot for some reason\n",
    "    plt.xlabel('Features')\n",
    "    plt.ylabel('Labels')\n",
    "    plt.title('Best Fit Line')\n",
    "    plt.show()\n",
    "\n",
    "# Initialising the mean and variance for normal distribution (for generate_data function)\n",
    "# Standard Normal (mean = 0, variance = 1)\n",
    "mean = 0\n",
    "var = 1\n",
    "FRAMES = 20\n",
    "# Making the data\n",
    "X = np.array([generate_data(mean, var, FRAMES)])\n",
    "y = 1.0 + (2.0 * X**2) + np.random.normal(-10, 10, FRAMES)\n",
    "\n",
    "# scatter(X, y)\n",
    "poly = Poly(FRAMES, degree=2)\n",
    "poly.fit(X, y)\n",
    "y_pred = poly.predict(X).T\n",
    "confidence = poly.score(X, y)\n",
    "print('Confidence:- {}'.format(confidence))\n",
    "\n",
    "plot_best_fit_line(X, y, y_pred)"
   ]
  }
 ],
 "metadata": {
  "kernelspec": {
   "display_name": "Python 3",
   "language": "python",
   "name": "python3"
  },
  "language_info": {
   "codemirror_mode": {
    "name": "ipython",
    "version": 3
   },
   "file_extension": ".py",
   "mimetype": "text/x-python",
   "name": "python",
   "nbconvert_exporter": "python",
   "pygments_lexer": "ipython3",
   "version": "3.7.3"
  }
 },
 "nbformat": 4,
 "nbformat_minor": 2
}
