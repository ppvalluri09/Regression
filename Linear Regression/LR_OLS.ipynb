{
 "cells": [
  {
   "cell_type": "code",
   "execution_count": 13,
   "metadata": {},
   "outputs": [
    {
     "data": {
      "image/png": "[encoded data removed]",
      "text/plain": [
       "<Figure size 432x288 with 1 Axes>"
      ]
     },
     "metadata": {
      "needs_background": "light"
     },
     "output_type": "display_data"
    }
   ],
   "source": [
    "import numpy as np\n",
    "from matplotlib import pyplot as plt\n",
    "\n",
    "FRAME_LENGTH = 10\n",
    "\n",
    "def prepareData(frames):\n",
    "    return np.random.randint(20, size=frames)\n",
    "\n",
    "def scatter(X, y):\n",
    "    plt.scatter(X, y)\n",
    "    plt.xlabel(\"Features\")\n",
    "    plt.ylabel(\"Mappings\")\n",
    "    plt.show()\n",
    "\n",
    "def plot_fit_line(X, y, y_pred):\n",
    "    plt.plot(X, y_pred, c=\"r\")\n",
    "    plt.scatter(X, y, c=\"b\")\n",
    "    plt.xlabel(\"Features\")\n",
    "    plt.ylabel(\"Mapping\")\n",
    "    plt.show()\n",
    "\n",
    "# X = prepareData(FRAME_LENGTH)\n",
    "# y = prepareData(FRAME_LENGTH)\n",
    "X = np.array([1, 2, 3, 4, 5])\n",
    "y = np.array([2, 4, 6, 8, 10])\n",
    "\n",
    "scatter(X, y)"
   ]
  },
  {
   "cell_type": "code",
   "execution_count": 25,
   "metadata": {},
   "outputs": [
    {
     "name": "stdout",
     "output_type": "stream",
     "text": [
      "\n",
      "\n",
      "    r: 7.250000000000002\n",
      "    R2: 1.0\n",
      "    b0: 0.0\n",
      "    b1: 2.0\n",
      "    SS_res: 0.0\n",
      "    SS_tot: 155.20000000000005\n",
      "\n",
      "\n",
      "+---+----+--------+\n",
      "| X | y  | y_pred |\n",
      "+---+----+--------+\n",
      "| 1 | 2  |  2.0   |\n",
      "| 2 | 4  |  4.0   |\n",
      "| 3 | 6  |  6.0   |\n",
      "| 4 | 8  |  8.0   |\n",
      "| 5 | 10 |  10.0  |\n",
      "+---+----+--------+\n"
     ]
    },
    {
     "data": {
      "image/png": "[encoded data removed]",
      "text/plain": [
       "<Figure size 432x288 with 1 Axes>"
      ]
     },
     "metadata": {
      "needs_background": "light"
     },
     "output_type": "display_data"
    }
   ],
   "source": [
    "# from tabulate import tabulate\n",
    "from prettytable import PrettyTable\n",
    "\n",
    "def sumOfSquares(y1, y2):\n",
    "    S = 0\n",
    "    if type(y2) is float:\n",
    "        for i in range(np.size(y1)):\n",
    "            diff_square = (y1[i] - y2) ** 2\n",
    "            S += diff_square\n",
    "        return S\n",
    "    else:\n",
    "        for i in range(np.size(y1)):\n",
    "            diff_square = (y1[i] - y2[i]) ** 2\n",
    "            S += diff_square\n",
    "        return S\n",
    "            \n",
    "def estimate_parameters(X, y):\n",
    "    \n",
    "    X_mean, y_mean = float(np.mean(X)), float(np.mean(y))\n",
    "    \n",
    "    n = np.size(X)\n",
    "    S1 = 0\n",
    "    S2 = 0\n",
    "    \n",
    "    _X, _y = (X - X_mean), (y - y_mean)\n",
    "    S1 = np.sum(_X * _y)\n",
    "    S2 = np.sum(_X * _X)\n",
    "\n",
    "    b1 = S1 / S2\n",
    "    b0 = y_mean - (b1 * X_mean)\n",
    "    return (b0, b1)\n",
    "\n",
    "b0, b1 = estimate_parameters(X, y)\n",
    "\n",
    "y_pred = b0 + X * b1\n",
    "\n",
    "SS_res = sumOfSquares(y, y_pred)\n",
    "SS_tot = sumOfSquares(y, y_mean)\n",
    "\n",
    "R2 = 1.0 - (SS_res / SS_tot) # R2 (Coefficient of Determination) determined by 1 - (SS_res / SS_tot)\n",
    "\n",
    "var_X = np.var(X)\n",
    "var_y = np.var(y)\n",
    "\n",
    "SS_xy = np.sum((X - X_mean) * (y - y_mean))\n",
    "\n",
    "r_deg_correlation = SS_xy / (var_X * var_y) # Degree of correlation defined as SS_xy / (var(X) * var(Y))\n",
    "\n",
    "print('''\n",
    "\n",
    "    r: {}\n",
    "    R2: {}\n",
    "    b0: {}\n",
    "    b1: {}\n",
    "    SS_res: {}\n",
    "    SS_tot: {}\n",
    "\n",
    "'''.format(r_deg_correlation, R2, b0, b1, SS_res, SS_tot))\n",
    "\n",
    "table = PrettyTable(['X', 'y', 'y_pred'])\n",
    "for i in range(len(X)):\n",
    "    table.add_row([str(X[i]), str(y[i]), str(y_pred[i])])\n",
    "\n",
    "print(table)\n",
    "\n",
    "plot_fit_line(X, y, y_pred)\n"
   ]
  }
 ],
 "metadata": {
  "kernelspec": {
   "display_name": "Python 3",
   "language": "python",
   "name": "python3"
  },
  "language_info": {
   "codemirror_mode": {
    "name": "ipython",
    "version": 3
   },
   "file_extension": ".py",
   "mimetype": "text/x-python",
   "name": "python",
   "nbconvert_exporter": "python",
   "pygments_lexer": "ipython3",
   "version": "3.7.3"
  }
 },
 "nbformat": 4,
 "nbformat_minor": 2
}
