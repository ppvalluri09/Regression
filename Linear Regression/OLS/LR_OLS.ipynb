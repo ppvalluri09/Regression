{
 "cells": [
  {
   "cell_type": "code",
   "execution_count": 2,
   "metadata": {},
   "outputs": [
    {
     "data": {
      "image/png": "[encoded data removed]",
      "text/plain": [
       "<Figure size 432x288 with 1 Axes>"
      ]
     },
     "metadata": {
      "needs_background": "light"
     },
     "output_type": "display_data"
    }
   ],
   "source": [
    "import numpy as np\n",
    "from matplotlib import pyplot as plt\n",
    "\n",
    "FRAME_LENGTH = 10\n",
    "\n",
    "def prepareData(frames):\n",
    "    return np.random.randint(20, size=frames)\n",
    "\n",
    "def scatter(X, y):\n",
    "    plt.scatter(X, y)\n",
    "    plt.xlabel(\"Features\")\n",
    "    plt.ylabel(\"Mappings\")\n",
    "    plt.show()\n",
    "\n",
    "def plot_fit_line(X, y, y_pred):\n",
    "    plt.plot(X, y_pred, c=\"r\")\n",
    "    plt.scatter(X, y, c=\"b\")\n",
    "    plt.xlabel(\"Features\")\n",
    "    plt.ylabel(\"Mapping\")\n",
    "    plt.show()\n",
    "\n",
    "X = prepareData(FRAME_LENGTH)\n",
    "y = 2 + 3*X + np.random.randint(20, size=FRAME_LENGTH)\n",
    "\n",
    "scatter(X, y)"
   ]
  },
  {
   "cell_type": "code",
   "execution_count": 6,
   "metadata": {},
   "outputs": [
    {
     "name": "stdout",
     "output_type": "stream",
     "text": [
      "\n",
      "\n",
      "    r: 0.11289613731337768\n",
      "    R2: 0.9271030796174575\n",
      "    b0: 14.296977660972402\n",
      "    b1: 2.697766097240473\n",
      "    SS_res: 174.1944809461236\n",
      "    SS_tot: 2389.6000000000004\n",
      "\n",
      "\n",
      "+----+----+--------------------+\n",
      "| X  | y  |       y_pred       |\n",
      "+----+----+--------------------+\n",
      "| 18 | 61 | 62.85676741130092  |\n",
      "| 8  | 35 | 35.87910643889619  |\n",
      "| 14 | 59 | 52.06570302233902  |\n",
      "| 10 | 39 | 41.27463863337714  |\n",
      "| 10 | 42 | 41.27463863337714  |\n",
      "| 3  | 27 | 22.39027595269382  |\n",
      "| 0  | 12 | 14.296977660972402 |\n",
      "| 8  | 27 | 35.87910643889619  |\n",
      "| 5  | 31 | 27.78580814717477  |\n",
      "| 0  | 15 | 14.296977660972402 |\n",
      "+----+----+--------------------+\n"
     ]
    },
    {
     "data": {
      "image/png": "[encoded data removed]",
      "text/plain": [
       "<Figure size 432x288 with 1 Axes>"
      ]
     },
     "metadata": {
      "needs_background": "light"
     },
     "output_type": "display_data"
    }
   ],
   "source": [
    "# from tabulate import tabulate\n",
    "from prettytable import PrettyTable\n",
    "\n",
    "def sumOfSquares(y1, y2):\n",
    "    S = 0\n",
    "    if type(y2) is float:\n",
    "        for i in range(np.size(y1)):\n",
    "            diff_square = (y1[i] - y2) ** 2\n",
    "            S += diff_square\n",
    "        return S\n",
    "    else:\n",
    "        for i in range(np.size(y1)):\n",
    "            diff_square = (y1[i] - y2[i]) ** 2\n",
    "            S += diff_square\n",
    "        return S\n",
    "            \n",
    "def estimate_parameters(X, y):\n",
    "    \n",
    "    X_mean, y_mean = float(np.mean(X)), float(np.mean(y))\n",
    "    \n",
    "    n = np.size(X)\n",
    "    S1 = 0\n",
    "    S2 = 0\n",
    "    \n",
    "    _X, _y = (X - X_mean), (y - y_mean)\n",
    "    S1 = np.sum(_X * _y)\n",
    "    S2 = np.sum(_X * _X)\n",
    "\n",
    "    b1 = S1 / S2\n",
    "    b0 = y_mean - (b1 * X_mean)\n",
    "    return (b0, b1)\n",
    "\n",
    "b0, b1 = estimate_parameters(X, y)\n",
    "\n",
    "y_pred = b0 + X * b1\n",
    "y_mean = float(np.mean(y))\n",
    "X_mean = float(np.mean(X))\n",
    "\n",
    "SS_res = sumOfSquares(y, y_pred)\n",
    "SS_tot = sumOfSquares(y, y_mean)\n",
    "\n",
    "R2 = 1.0 - (SS_res / SS_tot) # R2 (Coefficient of Determination) determined by 1 - (SS_res / SS_tot)\n",
    "\n",
    "var_X = np.var(X)\n",
    "var_y = np.var(y)\n",
    "\n",
    "SS_xy = np.sum((X - X_mean) * (y - y_mean))\n",
    "\n",
    "r_deg_correlation = SS_xy / (var_X * var_y) # Degree of correlation defined as SS_xy / (var(X) * var(Y))\n",
    "\n",
    "print('''\n",
    "\n",
    "    r: {}\n",
    "    R2: {}\n",
    "    b0: {}\n",
    "    b1: {}\n",
    "    SS_res: {}\n",
    "    SS_tot: {}\n",
    "\n",
    "'''.format(r_deg_correlation, R2, b0, b1, SS_res, SS_tot))\n",
    "\n",
    "table = PrettyTable(['X', 'y', 'y_pred'])\n",
    "for i in range(len(X)):\n",
    "    table.add_row([str(X[i]), str(y[i]), str(y_pred[i])])\n",
    "\n",
    "print(table)\n",
    "\n",
    "plot_fit_line(X, y, y_pred)\n"
   ]
  }
 ],
 "metadata": {
  "kernelspec": {
   "display_name": "Python 3",
   "language": "python",
   "name": "python3"
  },
  "language_info": {
   "codemirror_mode": {
    "name": "ipython",
    "version": 3
   },
   "file_extension": ".py",
   "mimetype": "text/x-python",
   "name": "python",
   "nbconvert_exporter": "python",
   "pygments_lexer": "ipython3",
   "version": "3.7.3"
  }
 },
 "nbformat": 4,
 "nbformat_minor": 2
}
